{
 "cells": [
  {
   "cell_type": "code",
   "execution_count": 1,
   "metadata": {
    "_cell_guid": "b1076dfc-b9ad-4769-8c92-a6c4dae69d19",
    "_uuid": "8f2839f25d086af736a60e9eeb907d3b93b6e0e5"
   },
   "outputs": [
    {
     "name": "stdout",
     "output_type": "stream",
     "text": [
      "['gender_submission.csv', 'test.csv', 'train.csv']\n"
     ]
    }
   ],
   "source": [
    "# This Python 3 environment comes with many helpful analytics libraries installed\n",
    "# It is defined by the kaggle/python docker image: https://github.com/kaggle/docker-python\n",
    "# For example, here's several helpful packages to load in \n",
    "\n",
    "import numpy as np # linear algebra\n",
    "import pandas as pd # data processing, CSV file I/O (e.g. pd.read_csv)\n",
    "\n",
    "# Input data files are available in the \"../input/\" directory.\n",
    "# For example, running this (by clicking run or pressing Shift+Enter) will list the files in the input directory\n",
    "\n",
    "import os\n",
    "print(os.listdir(\"../input\"))\n",
    "\n",
    "# Any results you write to the current directory are saved as output."
   ]
  },
  {
   "cell_type": "code",
   "execution_count": 2,
   "metadata": {
    "_cell_guid": "79c7e3d0-c299-4dcb-8224-4455121ee9b0",
    "_uuid": "d629ff2d2480ee46fbb7e2d37f6b5fab8052498a"
   },
   "outputs": [],
   "source": [
    "from fastai.tabular import *"
   ]
  },
  {
   "cell_type": "code",
   "execution_count": 3,
   "metadata": {
    "_uuid": "ba68ef5e36812e856323dc731ea503e6f15e498a"
   },
   "outputs": [],
   "source": [
    "train_df = pd.read_csv('../input/train.csv')\n",
    "test_df = pd.read_csv('../input/test.csv')"
   ]
  },
  {
   "cell_type": "code",
   "execution_count": 4,
   "metadata": {
    "_uuid": "281412e2c6d6415da91005950eb270aad5531c18"
   },
   "outputs": [
    {
     "name": "stdout",
     "output_type": "stream",
     "text": [
      "   Survived  Pclass     Sex   Age  ...      Fare  Cabin  Embarked Title\n",
      "0         0       3    male  22.0  ...    7.2500      N         S    Mr\n",
      "1         1       1  female  38.0  ...   71.2833      C         C   Mrs\n",
      "2         1       3  female  26.0  ...    7.9250      N         S  Miss\n",
      "3         1       1  female  35.0  ...   53.1000      C         S   Mrs\n",
      "4         0       3    male  35.0  ...    8.0500      N         S    Mr\n",
      "\n",
      "[5 rows x 10 columns]\n",
      "   Pclass     Sex   Age  SibSp  Parch     Fare Cabin Embarked Title\n",
      "0       3    male  34.5      0      0   7.8292     N        Q    Mr\n",
      "1       3  female  47.0      1      0   7.0000     N        S   Mrs\n",
      "2       2    male  62.0      0      0   9.6875     N        Q    Mr\n",
      "3       3    male  27.0      0      0   8.6625     N        S    Mr\n",
      "4       3  female  22.0      1      1  12.2875     N        S   Mrs\n"
     ]
    }
   ],
   "source": [
    "def create_feautures(df):\n",
    "    df_new = df.copy()\n",
    "    Title_Dictionary = {\n",
    "    \"Capt\": \"Officer\",\n",
    "    \"Col\": \"Officer\",\n",
    "    \"Major\": \"Officer\",\n",
    "    \"Jonkheer\": \"Royalty\",\n",
    "    \"Don\": \"Royalty\",\n",
    "    \"Sir\" : \"Royalty\",\n",
    "    \"Dr\": \"Officer\",\n",
    "    \"Rev\": \"Officer\",\n",
    "    \"the Countess\":\"Royalty\",\n",
    "    \"Mme\": \"Mrs\",\n",
    "    \"Mlle\": \"Miss\",\n",
    "    \"Ms\": \"Mrs\",\n",
    "    \"Mr\" : \"Mr\",\n",
    "    \"Mrs\" : \"Mrs\",\n",
    "    \"Miss\" : \"Miss\",\n",
    "    \"Master\" : \"Master\",\n",
    "    \"Lady\" : \"Royalty\",\n",
    "    \"Dona\":\"Dona\",\n",
    "    }\n",
    "\n",
    "    \n",
    "    # we extract the title from each name\n",
    "    df['Title'] = df['Name'].map(lambda name:name.split(',')[1].split('.')[0].strip())\n",
    "\n",
    "    # a map of more aggregated title\n",
    "    # we map each title\n",
    "    df_new['Title'] = df.Title.map(Title_Dictionary)\n",
    "    \n",
    "    df_new['Cabin'] = df.Cabin.apply(lambda cabin: cabin[0] if not cabin != cabin else 'N')\n",
    "    \n",
    "    grouped_train = df_new.groupby(['Sex','Pclass','Title'])\n",
    "    grouped_median_train = grouped_train.median()\n",
    "    grouped_median_train = grouped_median_train.reset_index()[['Sex', 'Pclass', 'Title', 'Age']]\n",
    "    \n",
    "    def fill_age(row):\n",
    "        condition = (\n",
    "            (grouped_median_train['Sex'] == row['Sex']) & \n",
    "            (grouped_median_train['Title'] == row['Title']) & \n",
    "            (grouped_median_train['Pclass'] == row['Pclass'])\n",
    "        ) \n",
    "        return grouped_median_train[condition]['Age'].values[0]\n",
    "    # a function that fills the missing values of the Age variable\n",
    "    df_new['Age'] = df_new.apply(lambda row: fill_age(row) if np.isnan(row['Age']) else row['Age'], axis=1)\n",
    "    df_new.Age = df_new.Age.fillna(df_new.Age.mean())\n",
    "    \n",
    "    \n",
    "    df_new['Embarked'] = df_new.Embarked.fillna('S')\n",
    "    \n",
    "    #Fares \n",
    "    df_new['Fare'] = df_new.Fare.fillna(df.Fare.median())\n",
    "    \n",
    "    df_new.drop([\"PassengerId\",\"Name\", \"Ticket\"], axis=1, inplace=True)\n",
    "    #df_new.drop([\"Name\", \"Ticket\"], axis=1, inplace=True)\n",
    "        \n",
    "    \n",
    "    return df_new\n",
    "\n",
    "train_df_new = create_feautures(train_df)\n",
    "test_df_new = create_feautures(test_df)\n",
    "print(train_df_new.head())\n",
    "print(test_df_new.head())"
   ]
  },
  {
   "cell_type": "code",
   "execution_count": 5,
   "metadata": {
    "_uuid": "af9d6431830d9749abdb10386d8cea40ef4ca48d"
   },
   "outputs": [
    {
     "name": "stdout",
     "output_type": "stream",
     "text": [
      "['Age', 'Fare']\n",
      "['Pclass', 'Sex', 'Title', 'SibSp', 'Parch', 'Embarked', 'Cabin']\n"
     ]
    }
   ],
   "source": [
    "\n",
    "procs = [FillMissing, Categorify, Normalize]\n",
    "cat_names = ['Pclass','Sex', 'Title', 'SibSp', 'Parch','Embarked','Cabin']\n",
    "cont_names = ['Age', 'Fare']\n",
    "dep_var = 'Survived'\n",
    "\n",
    "data = (TabularList.from_df(train_df_new, procs=procs, cont_names=cont_names, cat_names=cat_names)\n",
    "        .split_by_idx(valid_idx=range(int(len(train_df_new)*0.9),len(train_df_new)))\n",
    "        .label_from_df(cols=dep_var)\n",
    "        .add_test(TabularList.from_df(test_df_new, cat_names=cat_names, cont_names=cont_names, procs=procs))\n",
    "        .databunch())\n",
    "print(data.train_ds.cont_names)\n",
    "print(data.train_ds.cat_names)"
   ]
  },
  {
   "cell_type": "code",
   "execution_count": 6,
   "metadata": {
    "_uuid": "3cb768d193628eaceb0f0ae64b97865c10845cd4"
   },
   "outputs": [],
   "source": [
    "learn = tabular_learner(data, layers=[1000,500], metrics=accuracy)"
   ]
  },
  {
   "cell_type": "code",
   "execution_count": 7,
   "metadata": {
    "_uuid": "25a08d9b8a049f8c881821c08dae3344a2122131"
   },
   "outputs": [
    {
     "data": {
      "text/html": [
       "Total time: 00:00 <p><table style='width:300px; margin-bottom:10px'>\n",
       "  <tr>\n",
       "    <th>epoch</th>\n",
       "    <th>train_loss</th>\n",
       "    <th>valid_loss</th>\n",
       "    <th>accuracy</th>\n",
       "  </tr>\n",
       "  <tr>\n",
       "    <th>1</th>\n",
       "    <th>0.651376</th>\n",
       "    <th>0.547687</th>\n",
       "    <th>0.711111</th>\n",
       "  </tr>\n",
       "  <tr>\n",
       "    <th>2</th>\n",
       "    <th>0.585482</th>\n",
       "    <th>0.606865</th>\n",
       "    <th>0.744444</th>\n",
       "  </tr>\n",
       "</table>\n"
      ],
      "text/plain": [
       "<IPython.core.display.HTML object>"
      ]
     },
     "metadata": {},
     "output_type": "display_data"
    }
   ],
   "source": [
    "learn.fit_one_cycle(2, 2.5e-2)"
   ]
  },
  {
   "cell_type": "code",
   "execution_count": 8,
   "metadata": {
    "_uuid": "b9ff82782803986a3585e1b9761b7992a320f87e"
   },
   "outputs": [
    {
     "data": {
      "text/html": [],
      "text/plain": [
       "<IPython.core.display.HTML object>"
      ]
     },
     "metadata": {},
     "output_type": "display_data"
    },
    {
     "name": "stdout",
     "output_type": "stream",
     "text": [
      "LR Finder is complete, type {learner_name}.recorder.plot() to see the graph.\n",
      "Min numerical gradient: 3.02E-03\n"
     ]
    },
    {
     "data": {
      "image/png": "[encoded data removed]",
      "text/plain": [
       "<Figure size 432x288 with 1 Axes>"
      ]
     },
     "metadata": {},
     "output_type": "display_data"
    }
   ],
   "source": [
    "learn.lr_find()\n",
    "learn.recorder.plot()"
   ]
  },
  {
   "cell_type": "code",
   "execution_count": 9,
   "metadata": {
    "_uuid": "85af085e43d2d793fb356dd9259de411eb9d4fc3"
   },
   "outputs": [
    {
     "data": {
      "text/html": [
       "Total time: 00:07 <p><table style='width:300px; margin-bottom:10px'>\n",
       "  <tr>\n",
       "    <th>epoch</th>\n",
       "    <th>train_loss</th>\n",
       "    <th>valid_loss</th>\n",
       "    <th>accuracy</th>\n",
       "  </tr>\n",
       "  <tr>\n",
       "    <th>1</th>\n",
       "    <th>0.509735</th>\n",
       "    <th>0.544460</th>\n",
       "    <th>0.777778</th>\n",
       "  </tr>\n",
       "  <tr>\n",
       "    <th>2</th>\n",
       "    <th>0.481761</th>\n",
       "    <th>0.433364</th>\n",
       "    <th>0.822222</th>\n",
       "  </tr>\n",
       "  <tr>\n",
       "    <th>3</th>\n",
       "    <th>0.449960</th>\n",
       "    <th>0.360404</th>\n",
       "    <th>0.855556</th>\n",
       "  </tr>\n",
       "  <tr>\n",
       "    <th>4</th>\n",
       "    <th>0.430525</th>\n",
       "    <th>0.340080</th>\n",
       "    <th>0.866667</th>\n",
       "  </tr>\n",
       "  <tr>\n",
       "    <th>5</th>\n",
       "    <th>0.417570</th>\n",
       "    <th>0.343467</th>\n",
       "    <th>0.855556</th>\n",
       "  </tr>\n",
       "  <tr>\n",
       "    <th>6</th>\n",
       "    <th>0.405581</th>\n",
       "    <th>0.336221</th>\n",
       "    <th>0.855556</th>\n",
       "  </tr>\n",
       "  <tr>\n",
       "    <th>7</th>\n",
       "    <th>0.399952</th>\n",
       "    <th>0.333464</th>\n",
       "    <th>0.877778</th>\n",
       "  </tr>\n",
       "  <tr>\n",
       "    <th>8</th>\n",
       "    <th>0.394990</th>\n",
       "    <th>0.331255</th>\n",
       "    <th>0.844444</th>\n",
       "  </tr>\n",
       "  <tr>\n",
       "    <th>9</th>\n",
       "    <th>0.388227</th>\n",
       "    <th>0.326258</th>\n",
       "    <th>0.833333</th>\n",
       "  </tr>\n",
       "  <tr>\n",
       "    <th>10</th>\n",
       "    <th>0.383882</th>\n",
       "    <th>0.326593</th>\n",
       "    <th>0.855556</th>\n",
       "  </tr>\n",
       "  <tr>\n",
       "    <th>11</th>\n",
       "    <th>0.380911</th>\n",
       "    <th>0.329499</th>\n",
       "    <th>0.855556</th>\n",
       "  </tr>\n",
       "  <tr>\n",
       "    <th>12</th>\n",
       "    <th>0.376112</th>\n",
       "    <th>0.328385</th>\n",
       "    <th>0.855556</th>\n",
       "  </tr>\n",
       "  <tr>\n",
       "    <th>13</th>\n",
       "    <th>0.373971</th>\n",
       "    <th>0.338481</th>\n",
       "    <th>0.833333</th>\n",
       "  </tr>\n",
       "  <tr>\n",
       "    <th>14</th>\n",
       "    <th>0.369994</th>\n",
       "    <th>0.329505</th>\n",
       "    <th>0.844444</th>\n",
       "  </tr>\n",
       "  <tr>\n",
       "    <th>15</th>\n",
       "    <th>0.366410</th>\n",
       "    <th>0.329284</th>\n",
       "    <th>0.844444</th>\n",
       "  </tr>\n",
       "  <tr>\n",
       "    <th>16</th>\n",
       "    <th>0.363674</th>\n",
       "    <th>0.329446</th>\n",
       "    <th>0.844444</th>\n",
       "  </tr>\n",
       "  <tr>\n",
       "    <th>17</th>\n",
       "    <th>0.361898</th>\n",
       "    <th>0.331576</th>\n",
       "    <th>0.844444</th>\n",
       "  </tr>\n",
       "  <tr>\n",
       "    <th>18</th>\n",
       "    <th>0.361314</th>\n",
       "    <th>0.331094</th>\n",
       "    <th>0.844444</th>\n",
       "  </tr>\n",
       "  <tr>\n",
       "    <th>19</th>\n",
       "    <th>0.360766</th>\n",
       "    <th>0.328696</th>\n",
       "    <th>0.844444</th>\n",
       "  </tr>\n",
       "  <tr>\n",
       "    <th>20</th>\n",
       "    <th>0.358203</th>\n",
       "    <th>0.328553</th>\n",
       "    <th>0.844444</th>\n",
       "  </tr>\n",
       "</table>\n"
      ],
      "text/plain": [
       "<IPython.core.display.HTML object>"
      ]
     },
     "metadata": {},
     "output_type": "display_data"
    }
   ],
   "source": [
    "learn.unfreeze()\n",
    "learn.fit_one_cycle(20, slice(1e-3))"
   ]
  },
  {
   "cell_type": "code",
   "execution_count": 10,
   "metadata": {
    "_uuid": "8d8344235bb6cc07a664a07874b574d22599ef31"
   },
   "outputs": [],
   "source": [
    "preds, _ = learn.get_preds(ds_type=DatasetType.Test)\n",
    "pred_prob, pred_class = preds.max(1)\n",
    "\n",
    "submission = pd.DataFrame({'PassengerId':test_df['PassengerId'],'Survived':pred_class})"
   ]
  },
  {
   "cell_type": "code",
   "execution_count": 11,
   "metadata": {
    "_uuid": "49e90cfb8dfea6949b2f0c6a701d7017caf1089f"
   },
   "outputs": [],
   "source": [
    "submission.to_csv('submission-fastai.csv', index=False)"
   ]
  },
  {
   "cell_type": "code",
   "execution_count": 12,
   "metadata": {
    "_uuid": "47b17b5749f0304addf5c6d44f122e01d7553674"
   },
   "outputs": [
    {
     "name": "stdout",
     "output_type": "stream",
     "text": [
      "/bin/sh: 1: kaggle: not found\r\n"
     ]
    }
   ],
   "source": [
    "!kaggle competitions submit -c titanic -f submission-fastai.csv -m \"Fastai\""
   ]
  },
  {
   "cell_type": "code",
   "execution_count": 13,
   "metadata": {
    "_uuid": "2673056999922b32cd4df04f5b2006594be613ac"
   },
   "outputs": [],
   "source": []
  }
 ],
 "metadata": {
  "kernelspec": {
   "display_name": "Python 3",
   "language": "python",
   "name": "python3"
  },
  "language_info": {
   "codemirror_mode": {
    "name": "ipython",
    "version": 3
   },
   "file_extension": ".py",
   "mimetype": "text/x-python",
   "name": "python",
   "nbconvert_exporter": "python",
   "pygments_lexer": "ipython3",
   "version": "3.6.6"
  }
 },
 "nbformat": 4,
 "nbformat_minor": 4
}
